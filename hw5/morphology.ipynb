{
 "cells": [
  {
   "cell_type": "code",
   "execution_count": 1,
   "id": "42728ceb",
   "metadata": {},
   "outputs": [],
   "source": [
    "import numpy as np\n",
    "import matplotlib.pyplot as plt\n",
    "from matplotlib.colors import ListedColormap"
   ]
  },
  {
   "cell_type": "code",
   "execution_count": 2,
   "id": "aad2e343",
   "metadata": {},
   "outputs": [],
   "source": [
    "def make_triangle_se(side):\n",
    "    h = int(round(np.sqrt(3)/2 * side))\n",
    "    se = np.zeros((h, side), dtype=np.uint8)\n",
    "    for r in range(h):\n",
    "        # 每一列在等邊三角形上對應的水平範圍\n",
    "        span = int(round((side/2) * (1 - r/h)))\n",
    "        left  = side//2 - span\n",
    "        right = side//2 + span\n",
    "        se[r, left:right+1] = 1\n",
    "    return se"
   ]
  },
  {
   "cell_type": "code",
   "execution_count": 3,
   "id": "c48e658d",
   "metadata": {},
   "outputs": [],
   "source": [
    "def dilation_binary(img, se, anchor):\n",
    "    H, W = img.shape\n",
    "    h, w = se.shape\n",
    "    ax, ay = anchor\n",
    "    out_H, out_W = H + h - 1, W + w - 1\n",
    "    out = np.zeros((out_H, out_W), dtype=np.uint8)\n",
    "\n",
    "    for i in range(out_H):\n",
    "        for j in range(out_W):\n",
    "            hit = False\n",
    "            for u in range(h):\n",
    "                for v in range(w):\n",
    "                    if se[u, v] == 0:\n",
    "                        continue\n",
    "                    x = i - ax + u\n",
    "                    y = j - ay + v\n",
    "                    if 0 <= x < H and 0 <= y < W and img[x, y] == 1:\n",
    "                        hit = True\n",
    "                        break\n",
    "                if hit:\n",
    "                    break\n",
    "            out[i, j] = 1 if hit else 0\n",
    "    return out"
   ]
  },
  {
   "cell_type": "code",
   "execution_count": 4,
   "id": "eb5f2f87",
   "metadata": {},
   "outputs": [],
   "source": [
    "def erosion_binary(img, se, anchor):\n",
    "    H, W = img.shape\n",
    "    h, w = se.shape\n",
    "    ax, ay = anchor\n",
    "    out_H, out_W = H + h - 1, W + w - 1\n",
    "    out = np.zeros((out_H, out_W), dtype=np.uint8)\n",
    "\n",
    "    for i in range(out_H):\n",
    "        for j in range(out_W):\n",
    "            match = True\n",
    "            for u in range(h):\n",
    "                for v in range(w):\n",
    "                    if se[u, v] == 0:\n",
    "                        continue\n",
    "                    x = i - ax + u\n",
    "                    y = j - ay + v\n",
    "                    if x < 0 or x >= H or y < 0 or y >= W or img[x, y] == 0:\n",
    "                        match = False\n",
    "                        break\n",
    "                if not match:\n",
    "                    break\n",
    "            out[i, j] = 1 if match else 0\n",
    "    return out"
   ]
  },
  {
   "cell_type": "code",
   "execution_count": 5,
   "id": "eb0d75c7",
   "metadata": {},
   "outputs": [],
   "source": [
    "# 1. 建立 30px 正三角形 SE\n",
    "side = 30\n",
    "se = make_triangle_se(side)\n",
    "\n",
    "# 2. 建立 200×200 的二值方形圖像，並在外部補 0\n",
    "h, w = se.shape\n",
    "pad_h, pad_w = h - 1, w - 1\n",
    "original = np.ones((200, 200), dtype=np.uint8)\n",
    "img = np.pad(\n",
    "    original,\n",
    "    pad_width=((pad_h, pad_h), (pad_w, pad_w)),\n",
    "    mode='constant',\n",
    "    constant_values=0\n",
    ")\n",
    "\n",
    "# 3. 計算 Anchor (三角形重心)\n",
    "anchor = (int(round(h / 3)), side // 2)\n",
    "\n",
    "# 4. 執行膨脹\n",
    "dilated = dilation_binary(img, se, anchor)\n",
    "\n",
    "# 5. 執行侵蝕\n",
    "eroded = erosion_binary(dilated, se, anchor)"
   ]
  },
  {
   "cell_type": "code",
   "execution_count": 6,
   "id": "9e6e1d27",
   "metadata": {},
   "outputs": [
    {
     "data": {
      "image/png": "[encoded data removed]",
      "text/plain": [
       "<Figure size 640x480 with 1 Axes>"
      ]
     },
     "metadata": {},
     "output_type": "display_data"
    }
   ],
   "source": [
    "cmap = ListedColormap(['white', 'blue'])\n",
    "\n",
    "plt.figure()\n",
    "plt.imshow(img, cmap=cmap, vmin=0, vmax=1, aspect='equal', origin='upper')\n",
    "plt.title('Original Image (200×200 Square)')\n",
    "plt.axis('off')\n",
    "\n",
    "\n",
    "plt.show()"
   ]
  },
  {
   "cell_type": "code",
   "execution_count": 7,
   "id": "283accea",
   "metadata": {},
   "outputs": [
    {
     "data": {
      "image/png": "[encoded data removed]",
      "text/plain": [
       "<Figure size 400x400 with 1 Axes>"
      ]
     },
     "metadata": {},
     "output_type": "display_data"
    }
   ],
   "source": [
    "plt.figure(figsize=(4,4))\n",
    "plt.imshow(se, cmap=cmap, origin='lower', aspect='equal')\n",
    "plt.title(f'Equilateral Triangle SE ({side}px)')\n",
    "plt.axis('off')\n",
    "plt.show()"
   ]
  },
  {
   "cell_type": "code",
   "execution_count": 8,
   "id": "a1514f85",
   "metadata": {},
   "outputs": [
    {
     "data": {
      "image/png": "[encoded data removed]",
      "text/plain": [
       "<Figure size 400x400 with 1 Axes>"
      ]
     },
     "metadata": {},
     "output_type": "display_data"
    }
   ],
   "source": [
    "# 5. 繪製膨脹結果\n",
    "plt.figure(figsize=(4,4))\n",
    "plt.imshow(dilated, cmap=cmap)\n",
    "plt.axis('off')\n",
    "plt.title('Dilation Result')\n",
    "plt.show()"
   ]
  },
  {
   "cell_type": "code",
   "execution_count": 9,
   "id": "3a6018d1",
   "metadata": {},
   "outputs": [
    {
     "data": {
      "image/png": "[encoded data removed]",
      "text/plain": [
       "<Figure size 400x400 with 1 Axes>"
      ]
     },
     "metadata": {},
     "output_type": "display_data"
    }
   ],
   "source": [
    "# 6. 繪製侵蝕結果\n",
    "plt.figure(figsize=(4,4))\n",
    "plt.imshow(eroded, cmap=cmap)\n",
    "plt.axis('off')\n",
    "plt.title('Erosion Result')\n",
    "plt.show()"
   ]
  }
 ],
 "metadata": {
  "kernelspec": {
   "display_name": "venv",
   "language": "python",
   "name": "python3"
  },
  "language_info": {
   "codemirror_mode": {
    "name": "ipython",
    "version": 3
   },
   "file_extension": ".py",
   "mimetype": "text/x-python",
   "name": "python",
   "nbconvert_exporter": "python",
   "pygments_lexer": "ipython3",
   "version": "3.10.16"
  }
 },
 "nbformat": 4,
 "nbformat_minor": 5
}
