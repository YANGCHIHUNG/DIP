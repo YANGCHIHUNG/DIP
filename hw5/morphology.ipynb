{
 "cells": [
  {
   "cell_type": "code",
   "execution_count": 27,
   "id": "42728ceb",
   "metadata": {},
   "outputs": [],
   "source": [
    "import numpy as np\n",
    "import matplotlib.pyplot as plt\n",
    "from matplotlib.colors import ListedColormap"
   ]
  },
  {
   "cell_type": "code",
   "execution_count": 28,
   "id": "aad2e343",
   "metadata": {},
   "outputs": [],
   "source": [
    "def make_triangle_se(side):\n",
    "    h = int(round(np.sqrt(3)/2 * side))\n",
    "    se = np.zeros((h, side), dtype=np.uint8)\n",
    "    for r in range(h):\n",
    "        span = int(round((side/2) * (1 - r/h)))\n",
    "        left  = side//2 - span\n",
    "        right = side//2 + span\n",
    "        se[r, left:right+1] = 1\n",
    "    return se"
   ]
  },
  {
   "cell_type": "code",
   "execution_count": 29,
   "id": "c48e658d",
   "metadata": {},
   "outputs": [],
   "source": [
    "def dilation_binary(img, se, anchor):\n",
    "    H, W = img.shape\n",
    "    h, w = se.shape\n",
    "    ax, ay = anchor\n",
    "    out_H, out_W = H + h - 1, W + w - 1\n",
    "    out = np.zeros((out_H, out_W), dtype=np.uint8)\n",
    "\n",
    "    for i in range(out_H):\n",
    "        for j in range(out_W):\n",
    "            hit = False\n",
    "            for u in range(h):\n",
    "                for v in range(w):\n",
    "                    if se[u, v] == 0:\n",
    "                        continue\n",
    "                    x = i - ax + u\n",
    "                    y = j - ay + v\n",
    "                    if 0 <= x < H and 0 <= y < W and img[x, y] == 1:\n",
    "                        hit = True\n",
    "                        break\n",
    "                if hit:\n",
    "                    break\n",
    "            out[i, j] = 1 if hit else 0\n",
    "    return out"
   ]
  },
  {
   "cell_type": "code",
   "execution_count": 30,
   "id": "eb5f2f87",
   "metadata": {},
   "outputs": [],
   "source": [
    "import numpy as np\n",
    "\n",
    "def erosion_binary(img: np.ndarray,\n",
    "                   se: np.ndarray,\n",
    "                   anchor: tuple[int,int]) -> np.ndarray:\n",
    "\n",
    "    H, W = img.shape\n",
    "    h, w = se.shape\n",
    "    ax, ay = anchor\n",
    "\n",
    "    # 1. 反射 SE 並計算新的錨點\n",
    "    se_ref = np.flipud(np.fliplr(se))\n",
    "    ax_ref = h - 1 - ax\n",
    "    ay_ref = w - 1 - ay\n",
    "\n",
    "    # 2. 對原圖做 zero‐padding，使得輸出可以對應到所有 (i,j)\n",
    "    pad_top    = ax_ref\n",
    "    pad_bottom = h - 1 - ax_ref\n",
    "    pad_left   = ay_ref\n",
    "    pad_right  = w - 1 - ay_ref\n",
    "    img_pad = np.pad(img,\n",
    "                     ((pad_top, pad_bottom),\n",
    "                      (pad_left, pad_right)),\n",
    "                     mode='constant',\n",
    "                     constant_values=0)\n",
    "\n",
    "    # 3. 初始化輸出\n",
    "    out = np.zeros((H, W), dtype=np.uint8)\n",
    "\n",
    "    # 4. 迴圈掃描每個輸出像素\n",
    "    for i in range(H):\n",
    "        for j in range(W):\n",
    "            match = True\n",
    "\n",
    "            for u in range(h):\n",
    "                for v in range(w):\n",
    "                    if se_ref[u, v] == 0:\n",
    "                        continue\n",
    "                    if img_pad[i + u, j + v] == 0:\n",
    "                        match = False\n",
    "                        break\n",
    "                if not match:\n",
    "                    break\n",
    "            out[i, j] = 1 if match else 0\n",
    "\n",
    "    return out\n"
   ]
  },
  {
   "cell_type": "code",
   "execution_count": 31,
   "id": "eb0d75c7",
   "metadata": {},
   "outputs": [],
   "source": [
    "# 1. 建立 30 像素的正三角形 SE\n",
    "side = 30\n",
    "se = make_triangle_se(side)\n",
    "\n",
    "# 2. 建立 200*200 的二值方形圖像，並在外部補 0\n",
    "h, w = se.shape\n",
    "pad_h, pad_w = h - 1, w - 1\n",
    "original = np.ones((200, 200), dtype=np.uint8)\n",
    "img = np.pad(\n",
    "    original,\n",
    "    pad_width=((pad_h, pad_h), (pad_w, pad_w)),\n",
    "    mode='constant',\n",
    "    constant_values=0\n",
    ")\n",
    "\n",
    "# 3. 計算 Anchor\n",
    "anchor = (int(round(h / 3)), side // 2)\n",
    "\n",
    "# 4. 執行膨脹\n",
    "dilated = dilation_binary(img, se, anchor)\n",
    "\n",
    "# 5. 執行侵蝕\n",
    "eroded = erosion_binary(dilated, se, anchor)"
   ]
  },
  {
   "cell_type": "code",
   "execution_count": 32,
   "id": "9e6e1d27",
   "metadata": {},
   "outputs": [
    {
     "data": {
      "image/png": "[encoded data removed]",
      "text/plain": [
       "<Figure size 640x480 with 1 Axes>"
      ]
     },
     "metadata": {},
     "output_type": "display_data"
    }
   ],
   "source": [
    "cmap = ListedColormap(['white', 'blue'])\n",
    "\n",
    "plt.figure()\n",
    "plt.imshow(img, cmap=cmap, vmin=0, vmax=1, aspect='equal', origin='upper')\n",
    "plt.title('Original Image')\n",
    "plt.axis('off')\n",
    "plt.show()"
   ]
  },
  {
   "cell_type": "code",
   "execution_count": 33,
   "id": "283accea",
   "metadata": {},
   "outputs": [
    {
     "data": {
      "image/png": "[encoded data removed]",
      "text/plain": [
       "<Figure size 400x400 with 1 Axes>"
      ]
     },
     "metadata": {},
     "output_type": "display_data"
    }
   ],
   "source": [
    "plt.figure(figsize=(4,4))\n",
    "plt.imshow(se, cmap=cmap, origin='lower', aspect='equal')\n",
    "plt.title(f'SE')\n",
    "plt.axis('off')\n",
    "plt.show()"
   ]
  },
  {
   "cell_type": "code",
   "execution_count": 34,
   "id": "a1514f85",
   "metadata": {},
   "outputs": [
    {
     "data": {
      "image/png": "[encoded data removed]",
      "text/plain": [
       "<Figure size 400x400 with 1 Axes>"
      ]
     },
     "metadata": {},
     "output_type": "display_data"
    }
   ],
   "source": [
    "plt.figure(figsize=(4,4))\n",
    "plt.imshow(dilated, cmap=cmap)\n",
    "plt.axis('off')\n",
    "plt.title('Dilation')\n",
    "plt.show()"
   ]
  },
  {
   "cell_type": "code",
   "execution_count": 35,
   "id": "3a6018d1",
   "metadata": {},
   "outputs": [
    {
     "data": {
      "image/png": "[encoded data removed]",
      "text/plain": [
       "<Figure size 400x400 with 1 Axes>"
      ]
     },
     "metadata": {},
     "output_type": "display_data"
    }
   ],
   "source": [
    "plt.figure(figsize=(4,4))\n",
    "plt.imshow(eroded, cmap=cmap)\n",
    "plt.axis('off')\n",
    "plt.title('Erosion')\n",
    "plt.show()"
   ]
  }
 ],
 "metadata": {
  "kernelspec": {
   "display_name": "venv",
   "language": "python",
   "name": "python3"
  },
  "language_info": {
   "codemirror_mode": {
    "name": "ipython",
    "version": 3
   },
   "file_extension": ".py",
   "mimetype": "text/x-python",
   "name": "python",
   "nbconvert_exporter": "python",
   "pygments_lexer": "ipython3",
   "version": "3.10.16"
  }
 },
 "nbformat": 4,
 "nbformat_minor": 5
}
